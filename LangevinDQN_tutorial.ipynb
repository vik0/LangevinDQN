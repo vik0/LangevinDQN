{
  "nbformat": 4,
  "nbformat_minor": 0,
  "metadata": {
    "colab": {
      "name": "LangevinDQN_tutorial.ipynb",
      "provenance": [],
      "collapsed_sections": []
    },
    "kernelspec": {
      "display_name": "Python 3",
      "name": "python3"
    }
  },
  "cells": [
    {
      "cell_type": "markdown",
      "metadata": {
        "id": "UlVUPADrdXHC"
      },
      "source": [
        "[![Open In Colab](https://colab.research.google.com/assets/colab-badge.svg)](https://colab.research.google.com/github.com/vik0/LangevinDQN/blob/main/LangevinDQN_tutorial.ipynb)\n",
        "\n",
        "# Langevin DQN "
      ]
    },
    {
      "cell_type": "markdown",
      "metadata": {
        "id": "ALVbqt5r9EGQ"
      },
      "source": [
        "Colab to run a simple experiment with Langevin DQN on deep sea environment. The aim of this colab is to provide sample code to run Langevin DQN and Ensemble Langevin DQN on bsuite environments. \n",
        "\n",
        "In this code,\n",
        "- We run Langevin DQN (with a single point estimate) on a deep sea environment of depth $10$.\n",
        "- We run Ensemble Langevin DQN (with size $10$) on a deep sea environment of depth $10$. \n",
        "\n",
        "Please upload the notebook to [google colaboratory](https://colab.research.google.com/) to run it.\n"
      ]
    },
    {
      "cell_type": "markdown",
      "metadata": {
        "id": "B-nlFMGLg2Co"
      },
      "source": [
        "## Imports"
      ]
    },
    {
      "cell_type": "code",
      "metadata": {
        "id": "uGhgBa497ZvX",
        "cellView": "form"
      },
      "source": [
        "#@title Installing bsuite\n",
        "%%capture\n",
        "!pip install bsuite[baselines]"
      ],
      "execution_count": 9,
      "outputs": []
    },
    {
      "cell_type": "code",
      "metadata": {
        "cellView": "form",
        "id": "7GXI2JZVNypA"
      },
      "source": [
        "# @title Clone the LangevinDQN repository  \n",
        "import os\n",
        "os.chdir('/content')\n",
        "!git clone https://github.com/vik0/LangevinDQN.git"
      ],
      "execution_count": null,
      "outputs": []
    },
    {
      "cell_type": "code",
      "metadata": {
        "id": "n1PPNTwB7ZvY",
        "cellView": "form"
      },
      "source": [
        "#@title Imports\n",
        "\n",
        "# pylint: disable=unused-import\n",
        "\n",
        "from __future__ import absolute_import\n",
        "from __future__ import division\n",
        "from __future__ import print_function\n",
        "\n",
        "\n",
        "import glob \n",
        "\n",
        "import warnings\n",
        "import numpy as np\n",
        "import pandas as pd\n",
        "\n",
        "import time\n",
        "import bsuite\n",
        "from bsuite.experiments import summary_analysis\n",
        "from bsuite.logging import csv_load\n",
        "from bsuite.logging import sqlite_load\n",
        "\n",
        "from bsuite import sweep\n",
        "\n",
        "import matplotlib.pyplot as plt\n",
        "import os\n",
        "import subprocess\n"
      ],
      "execution_count": 11,
      "outputs": []
    },
    {
      "cell_type": "markdown",
      "metadata": {
        "id": "vmVEwbpEg5Dg"
      },
      "source": [
        "## Run LangevinDQN (point estimate) on deep sea environment of depth 10 "
      ]
    },
    {
      "cell_type": "code",
      "metadata": {
        "colab": {
          "base_uri": "https://localhost:8080/"
        },
        "cellView": "form",
        "id": "hoWmWgf2OPMO",
        "outputId": "499110d4-cda6-4ad9-c227-c0a7291c5e25"
      },
      "source": [
        "# @title run the experiment\n",
        "\n",
        "import tensorflow as tf\n",
        "import sonnet as snt\n",
        "\n",
        "os.chdir('/content/LangevinDQN')\n",
        "from agent import EnsembleLangevinDqn\n",
        "from agent import make_ensemble\n",
        "\n",
        "num_episodes = 1000\n",
        "depth = 10\n",
        "seed = 42\n",
        "sgds = 10\n",
        "learning_rate = 0.01\n",
        "noise_scale = 0.005\n",
        "regularization_penalty = 0.005 \n",
        "relu_alpha = 0.1\n",
        "\n",
        "np.random.seed(seed)\n",
        "tf.random.set_seed(seed)\n",
        "\n",
        "env = bsuite.load('deep_sea', {'size': depth,  'seed': seed})\n",
        "\n",
        "ensemble = make_ensemble(\n",
        "      num_actions=env.action_spec().num_values,\n",
        "      num_ensemble=1,\n",
        "      num_hidden_layers=2,\n",
        "      num_units=50,\n",
        "      prior_scale=0,\n",
        "      relu_alpha=relu_alpha,\n",
        "      with_bias=True,\n",
        "      )\n",
        "\n",
        "agent = EnsembleLangevinDqn(\n",
        "      obs_spec=env.observation_spec(), action_spec=env.action_spec(),\n",
        "      ensemble=ensemble, num_ensemble=1,\n",
        "      batch_size=128, discount=0.99,\n",
        "      replay_capacity=10_000, min_replay_size=0, target_update_period=4,\n",
        "      sgds_per_step=sgds, update_every_step=False,\n",
        "      optimizer=snt.optimizers.Adam(learning_rate=learning_rate,\n",
        "                                    epsilon=1e-6),\n",
        "      mask_prob=1, noise_scale=noise_scale, epsilon_fn=lambda x: 0,\n",
        "      regularization_penalty = regularization_penalty,\n",
        "      seed=seed)\n",
        "\n",
        "\n",
        "results = []\n",
        "cumulative_reward = 0\n",
        "cumulative_regret = 0\n",
        "for t in range(num_episodes):\n",
        "  # Run an episode.\n",
        "  reward = 0\n",
        "  timestep = env.reset()\n",
        "  while not timestep.last():\n",
        "    # Generate an action from the agent's policy.\n",
        "    action = agent.select_action(timestep)\n",
        "\n",
        "    # Step the environment.\n",
        "    new_timestep = env.step(action)\n",
        "    reward += np.around(new_timestep.reward, 3)\n",
        "\n",
        "    # Tell the agent about what just happened.\n",
        "    agent.update(timestep, action, new_timestep)\n",
        "\n",
        "    # Book-keeping.\n",
        "    timestep = new_timestep\n",
        "\n",
        "  cumulative_reward +=  reward\n",
        "  cumulative_regret +=  0.99 - reward\n",
        "  result = {'episode': t,\n",
        "            'reward': reward,\n",
        "            'regret': 0.99 - reward,\n",
        "            'cumulative_reward': np.round(cumulative_reward, 3),\n",
        "            'cumulative_regret': np.round(cumulative_regret, 3)}\n",
        "  results.append(result)\n",
        "  if (t%100 == 0):\n",
        "    np.set_printoptions(precision=3, suppress=True)\n",
        "    print(result)\n",
        "\n",
        "df = pd.DataFrame(results)"
      ],
      "execution_count": 12,
      "outputs": [
        {
          "output_type": "stream",
          "text": [
            "{'episode': 0, 'reward': -0.006, 'regret': 0.996, 'cumulative_reward': -0.006, 'cumulative_regret': 0.996}\n",
            "{'episode': 100, 'reward': -0.004, 'regret': 0.994, 'cumulative_reward': -0.511, 'cumulative_regret': 100.501}\n",
            "{'episode': 200, 'reward': -0.008, 'regret': 0.998, 'cumulative_reward': -1.032, 'cumulative_regret': 200.022}\n",
            "{'episode': 300, 'reward': 0.99, 'regret': 0.0, 'cumulative_reward': 13.327, 'cumulative_regret': 284.663}\n",
            "{'episode': 400, 'reward': 0.99, 'regret': 0.0, 'cumulative_reward': 112.327, 'cumulative_regret': 284.663}\n",
            "{'episode': 500, 'reward': 0.99, 'regret': 0.0, 'cumulative_reward': 211.327, 'cumulative_regret': 284.663}\n",
            "{'episode': 600, 'reward': 0.99, 'regret': 0.0, 'cumulative_reward': 310.327, 'cumulative_regret': 284.663}\n",
            "{'episode': 700, 'reward': 0.99, 'regret': 0.0, 'cumulative_reward': 409.327, 'cumulative_regret': 284.663}\n",
            "{'episode': 800, 'reward': 0.99, 'regret': 0.0, 'cumulative_reward': 508.327, 'cumulative_regret': 284.663}\n",
            "{'episode': 900, 'reward': 0.99, 'regret': 0.0, 'cumulative_reward': 607.327, 'cumulative_regret': 284.663}\n"
          ],
          "name": "stdout"
        }
      ]
    },
    {
      "cell_type": "code",
      "metadata": {
        "id": "i4EU6ldtGIf8",
        "colab": {
          "base_uri": "https://localhost:8080/",
          "height": 575
        },
        "cellView": "form",
        "outputId": "af434f4a-ee27-479e-c7e5-07e9dfe4de9b"
      },
      "source": [
        "# @title plot the results\n",
        "plt.figure()\n",
        "plt.plot(df.episode, df.cumulative_regret)\n",
        "plt.ylabel('Cumulative regret')\n",
        "plt.xlabel('episode')\n",
        "plt.title('Langevin DQN on deep sea environment of depth $10$')\n",
        "plt.show()"
      ],
      "execution_count": 13,
      "outputs": [
        {
          "output_type": "display_data",
          "data": {
            "image/png": "[encoded data removed]",
            "text/plain": [
              "<Figure size 921.6x633.6 with 1 Axes>"
            ]
          },
          "metadata": {
            "tags": []
          }
        }
      ]
    },
    {
      "cell_type": "markdown",
      "metadata": {
        "id": "fZZMydFIYipa"
      },
      "source": [
        "## Run Ensemble LangevinDQN (10) on deep sea environment of depth 10 "
      ]
    },
    {
      "cell_type": "code",
      "metadata": {
        "colab": {
          "base_uri": "https://localhost:8080/"
        },
        "cellView": "form",
        "id": "INGes-huYipa",
        "outputId": "2ff6579f-f556-4ff5-a046-2bd62e10a673"
      },
      "source": [
        "# @title run the experiment\n",
        "\n",
        "import tensorflow as tf\n",
        "import sonnet as snt\n",
        "\n",
        "os.chdir('/content/LangevinDQN')\n",
        "from agent import EnsembleLangevinDqn\n",
        "from agent import make_ensemble\n",
        "\n",
        "num_episodes = 1000\n",
        "depth = 10\n",
        "seed = 42\n",
        "\n",
        "sgds = 1\n",
        "learning_rate = 0.001\n",
        "noise_scale = 0.0001\n",
        "num_ensemble = 10\n",
        "prior_scale = 3\n",
        "\n",
        "np.random.seed(seed)\n",
        "tf.random.set_seed(seed)\n",
        "\n",
        "env = bsuite.load('deep_sea', {'size': depth,  'seed': seed})\n",
        "\n",
        "ensemble = make_ensemble(\n",
        "      num_actions=env.action_spec().num_values,\n",
        "      num_ensemble=num_ensemble,\n",
        "      num_hidden_layers=2,\n",
        "      num_units=50,\n",
        "      prior_scale=prior_scale,\n",
        "      with_bias=True,\n",
        "      )\n",
        "\n",
        "agent = EnsembleLangevinDqn(\n",
        "      obs_spec=env.observation_spec(), action_spec=env.action_spec(),\n",
        "      ensemble=ensemble, num_ensemble=num_ensemble,\n",
        "      batch_size=128, discount=0.99,\n",
        "      replay_capacity=10_000, min_replay_size=0, target_update_period=4,\n",
        "      sgds_per_step=sgds, update_every_step=False,\n",
        "      optimizer=snt.optimizers.Adam(learning_rate=learning_rate,\n",
        "                                    epsilon=1e-6),\n",
        "      mask_prob=1, noise_scale=noise_scale, epsilon_fn=lambda x: 0,\n",
        "      # regularization_penalty = regularization_penalty,\n",
        "      seed=seed)\n",
        "\n",
        "\n",
        "results = []\n",
        "cumulative_reward = 0\n",
        "cumulative_regret = 0\n",
        "for t in range(num_episodes):\n",
        "  # Run an episode.\n",
        "  reward = 0\n",
        "  timestep = env.reset()\n",
        "  while not timestep.last():\n",
        "    # Generate an action from the agent's policy.\n",
        "    action = agent.select_action(timestep)\n",
        "\n",
        "    # Step the environment.\n",
        "    new_timestep = env.step(action)\n",
        "    reward += np.around(new_timestep.reward, 3)\n",
        "\n",
        "    # Tell the agent about what just happened.\n",
        "    agent.update(timestep, action, new_timestep)\n",
        "\n",
        "    # Book-keeping.\n",
        "    timestep = new_timestep\n",
        "\n",
        "  cumulative_reward +=  reward\n",
        "  cumulative_regret +=  0.99 - reward\n",
        "  result = {'episode': t,\n",
        "            'reward': reward,\n",
        "            'regret': 0.99-reward,\n",
        "            'cumulative_reward': np.round(cumulative_reward, 3),\n",
        "            'cumulative_regret': np.round(cumulative_regret, 3)}\n",
        "  results.append(result)\n",
        "  if (t%100 == 0):\n",
        "    np.set_printoptions(precision=3, suppress=True)\n",
        "    print(result)\n",
        "\n",
        "df = pd.DataFrame(results)"
      ],
      "execution_count": 14,
      "outputs": [
        {
          "output_type": "stream",
          "text": [
            "{'episode': 0, 'reward': -0.007, 'regret': 0.997, 'cumulative_reward': -0.007, 'cumulative_regret': 0.997}\n",
            "{'episode': 100, 'reward': 0.99, 'regret': 0.0, 'cumulative_reward': 34.249, 'cumulative_regret': 65.741}\n",
            "{'episode': 200, 'reward': 0.99, 'regret': 0.0, 'cumulative_reward': 133.249, 'cumulative_regret': 65.741}\n",
            "{'episode': 300, 'reward': 0.99, 'regret': 0.0, 'cumulative_reward': 232.249, 'cumulative_regret': 65.741}\n",
            "{'episode': 400, 'reward': 0.99, 'regret': 0.0, 'cumulative_reward': 331.249, 'cumulative_regret': 65.741}\n",
            "{'episode': 500, 'reward': 0.99, 'regret': 0.0, 'cumulative_reward': 430.249, 'cumulative_regret': 65.741}\n",
            "{'episode': 600, 'reward': 0.99, 'regret': 0.0, 'cumulative_reward': 529.249, 'cumulative_regret': 65.741}\n",
            "{'episode': 700, 'reward': 0.99, 'regret': 0.0, 'cumulative_reward': 628.249, 'cumulative_regret': 65.741}\n",
            "{'episode': 800, 'reward': 0.99, 'regret': 0.0, 'cumulative_reward': 727.249, 'cumulative_regret': 65.741}\n",
            "{'episode': 900, 'reward': 0.99, 'regret': 0.0, 'cumulative_reward': 826.249, 'cumulative_regret': 65.741}\n"
          ],
          "name": "stdout"
        }
      ]
    },
    {
      "cell_type": "code",
      "metadata": {
        "colab": {
          "base_uri": "https://localhost:8080/",
          "height": 575
        },
        "cellView": "form",
        "id": "eU1l4ynLYipb",
        "outputId": "0305475e-aecd-4cc5-abe2-04c585f21457"
      },
      "source": [
        "# @title plot the results\n",
        "plt.figure()\n",
        "plt.plot(df.episode, df.cumulative_regret)\n",
        "plt.ylabel('Cumulative regret')\n",
        "plt.xlabel('episode')\n",
        "plt.title('Ensemble Langevin DQN ($10$) on deep sea environment of depth $10$')\n",
        "plt.show()"
      ],
      "execution_count": 15,
      "outputs": [
        {
          "output_type": "display_data",
          "data": {
            "image/png": "[encoded data removed]",
            "text/plain": [
              "<Figure size 921.6x633.6 with 1 Axes>"
            ]
          },
          "metadata": {
            "tags": []
          }
        }
      ]
    }
  ]
}